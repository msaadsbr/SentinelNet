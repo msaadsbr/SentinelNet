{
 "cells": [
  {
   "cell_type": "markdown",
   "id": "e6c7c630",
   "metadata": {},
   "source": [
    "- Step 1: Import Libraries"
   ]
  },
  {
   "cell_type": "code",
   "execution_count": 2,
   "id": "544f3dee",
   "metadata": {},
   "outputs": [],
   "source": [
    "import pandas as pd\n",
    "import numpy as np\n",
    "import seaborn as sns\n",
    "import matplotlib.pyplot as plt\n",
    "from sklearn.model_selection import train_test_split\n",
    "from sklearn.preprocessing import StandardScaler, LabelEncoder\n",
    "from sklearn.ensemble import RandomForestClassifier\n",
    "from sklearn.metrics import classification_report, confusion_matrix, accuracy_score\n",
    "import warnings\n",
    "warnings.filterwarnings(\"ignore\")\n"
   ]
  },
  {
   "cell_type": "code",
   "execution_count": 7,
   "id": "f611f49b",
   "metadata": {},
   "outputs": [
    {
     "name": "stdout",
     "output_type": "stream",
     "text": [
      "label\n",
      "1    0.680622\n",
      "0    0.319378\n",
      "Name: proportion, dtype: float64\n"
     ]
    }
   ],
   "source": [
    "# Load the labeled dataset\n",
    "df = pd.read_csv(\"CSV_Files/Training and Testing Sets/UNSW_NB15_training-set.csv\", low_memory=False)\n",
    "df.head()\n",
    "print(df['label'].value_counts(normalize=True))\n"
   ]
  },
  {
   "cell_type": "code",
   "execution_count": 8,
   "id": "3cd851cf",
   "metadata": {},
   "outputs": [
    {
     "name": "stdout",
     "output_type": "stream",
     "text": [
      "              precision    recall  f1-score   support\n",
      "\n",
      "           0       0.87      0.95      0.91     11169\n",
      "           1       0.98      0.94      0.96     23900\n",
      "\n",
      "    accuracy                           0.94     35069\n",
      "   macro avg       0.92      0.94      0.93     35069\n",
      "weighted avg       0.94      0.94      0.94     35069\n",
      "\n"
     ]
    }
   ],
   "source": [
    "# Define the 8 user-friendly features\n",
    "features = ['dur', 'sbytes', 'dbytes', 'sttl', 'dttl', 'smean', 'dmean', 'service']\n",
    "target = 'label'\n",
    "\n",
    "# Drop any rows with missing required columns\n",
    "df = df.dropna(subset=features + [target])\n",
    "\n",
    "# Encode 'service' column (must match app.py encoding)\n",
    "service_mapping = {'-': 0, 'dns': 1, 'ftp': 2, 'http': 3, 'smtp': 4, 'ssh': 5, 'ssl': 6}\n",
    "df['service'] = df['service'].map(service_mapping).fillna(0).astype(int)\n",
    "\n",
    "\n",
    "\n",
    "# Prepare X and y\n",
    "X = df[features]\n",
    "y = df[target]\n",
    "\n",
    "# Scale inputs\n",
    "scaler = StandardScaler()\n",
    "X_scaled = scaler.fit_transform(X)\n",
    "\n",
    "# Train/test split\n",
    "X_train, X_test, y_train, y_test = train_test_split(X_scaled, y, test_size=0.2, random_state=42)\n",
    "\n",
    "# Train model with balanced class weights (recommended)\n",
    "model = RandomForestClassifier(\n",
    "    n_estimators=150,\n",
    "    max_depth=15,\n",
    "    min_samples_leaf=5,\n",
    "    class_weight='balanced_subsample',\n",
    "    random_state=42\n",
    ")\n",
    "\n",
    "model.fit(X_train, y_train)\n",
    "\n",
    "# Optional: Evaluate performance\n",
    "print(classification_report(y_test, model.predict(X_test)))\n"
   ]
  },
  {
   "cell_type": "code",
   "execution_count": 9,
   "id": "17f21faf",
   "metadata": {},
   "outputs": [
    {
     "data": {
      "text/plain": [
       "['IsAffected/scaler.pkl']"
      ]
     },
     "execution_count": 9,
     "metadata": {},
     "output_type": "execute_result"
    }
   ],
   "source": [
    "import joblib\n",
    "\n",
    "# Save model and scaler\n",
    "joblib.dump(model, \"IsAffected/rf_model.pkl\")\n",
    "joblib.dump(scaler, \"IsAffected/scaler.pkl\")\n"
   ]
  }
 ],
 "metadata": {
  "kernelspec": {
   "display_name": "Python 3",
   "language": "python",
   "name": "python3"
  },
  "language_info": {
   "codemirror_mode": {
    "name": "ipython",
    "version": 3
   },
   "file_extension": ".py",
   "mimetype": "text/x-python",
   "name": "python",
   "nbconvert_exporter": "python",
   "pygments_lexer": "ipython3",
   "version": "3.10.12"
  }
 },
 "nbformat": 4,
 "nbformat_minor": 5
}
